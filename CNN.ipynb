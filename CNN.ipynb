{
  "cells": [
    {
      "cell_type": "markdown",
      "metadata": {
        "id": "view-in-github",
        "colab_type": "text"
      },
      "source": [
        "<a href=\"https://colab.research.google.com/github/pyagoubi/Data-Science-Program/blob/main/CNN.ipynb\" target=\"_parent\"><img src=\"https://colab.research.google.com/assets/colab-badge.svg\" alt=\"Open In Colab\"/></a>"
      ]
    },
    {
      "cell_type": "markdown",
      "metadata": {
        "id": "Q91KqmCRu64D"
      },
      "source": [
        "# **Convolutional Neural Networks Project: Street View Housing Number Digit Recognition**\n",
        "\n",
        "--------------\n",
        "## **Context** \n",
        "--------------\n",
        "\n",
        "The SVHN dataset contains over 600,000 labeled digits cropped from street-level photos. It is one of the most popular image recognition datasets. It has been used in neural networks created by Google to improve the map quality by automatically transcribing the address numbers from a patch of pixels. The transcribed number with a known street address helps pinpoint the location of the building it represents. \n",
        "\n",
        "----------------\n",
        "## **Objective**\n",
        "----------------\n",
        "\n",
        "To build a CNN model that can recognize the digits in the images.\n",
        "\n",
        "-------------\n",
        "## **Dataset**\n",
        "-------------\n",
        "Here, we will use a subset of the original data to save some computation time. The dataset is provided as a .h5 file. The basic preprocessing steps have been applied on the dataset."
      ]
    },
    {
      "cell_type": "code",
      "execution_count": null,
      "metadata": {
        "colab": {
          "base_uri": "https://localhost:8080/"
        },
        "id": "03lDyQUuef7z",
        "outputId": "b9a15599-4761-4b20-ee34-dc3c6cc008d0"
      },
      "outputs": [
        {
          "output_type": "stream",
          "name": "stdout",
          "text": [
            "Mounted at /content/drive\n"
          ]
        }
      ],
      "source": [
        "from google.colab import drive\n",
        "\n",
        "drive.mount('/content/drive')"
      ]
    },
    {
      "cell_type": "markdown",
      "metadata": {
        "id": "C8U3DUa3eNsT"
      },
      "source": [
        "## **Importing the necessary libraries**"
      ]
    },
    {
      "cell_type": "code",
      "execution_count": null,
      "metadata": {
        "id": "-dVzeuF3eQx1"
      },
      "outputs": [],
      "source": [
        "import numpy as np\n",
        "import pandas as pd\n",
        "import matplotlib.pyplot as plt\n",
        "import seaborn as sns\n",
        "from sklearn.model_selection import train_test_split\n",
        "from sklearn.preprocessing import MinMaxScaler\n",
        "import tensorflow as tf\n",
        "from tensorflow.keras.models import Sequential\n",
        "from tensorflow.keras.layers import Dense, Conv2D, MaxPool2D, BatchNormalization, Dropout, Flatten, LeakyReLU, MaxPooling2D\n",
        "from tensorflow.keras.losses import categorical_crossentropy\n",
        "from tensorflow.keras.optimizers import Adam\n",
        "from tensorflow.keras.utils import to_categorical"
      ]
    },
    {
      "cell_type": "code",
      "execution_count": null,
      "metadata": {
        "colab": {
          "base_uri": "https://localhost:8080/"
        },
        "id": "W5as47YxyJVk",
        "outputId": "212f69fe-23d7-4a5f-ee42-3a68e58e502e"
      },
      "outputs": [
        {
          "output_type": "stream",
          "name": "stdout",
          "text": [
            "2.8.0\n"
          ]
        }
      ],
      "source": [
        "print(tf.__version__)"
      ]
    },
    {
      "cell_type": "markdown",
      "metadata": {
        "id": "8lsux2ZwyTTR"
      },
      "source": [
        "## **Load the dataset**\n"
      ]
    },
    {
      "cell_type": "code",
      "execution_count": null,
      "metadata": {
        "id": "BApX9qgNsqV0",
        "scrolled": true
      },
      "outputs": [],
      "source": [
        "import h5py\n",
        "\n",
        "# Open the file as read only\n",
        "# User can make changes in the path as required\n",
        "\n",
        "h5f = h5py.File('/content/drive/MyDrive/SVHN_single_grey1.h5', 'r')\n",
        "\n",
        "# Load the the train and the test dataset\n",
        "\n",
        "X_train = h5f['X_train'][:]\n",
        "\n",
        "y_train = h5f['y_train'][:]\n",
        "\n",
        "X_test = h5f['X_test'][:]\n",
        "\n",
        "y_test = h5f['y_test'][:]\n",
        "\n",
        "\n",
        "# Close this file\n",
        "\n",
        "h5f.close()"
      ]
    },
    {
      "cell_type": "markdown",
      "metadata": {
        "id": "hVe0CYpUgj7w"
      },
      "source": [
        "Check the number of images in the training and the testing dataset."
      ]
    },
    {
      "cell_type": "code",
      "execution_count": null,
      "metadata": {
        "colab": {
          "base_uri": "https://localhost:8080/"
        },
        "id": "y3lwKpOefkpA",
        "outputId": "e179ca55-730d-44b3-deeb-c56f776f4af1"
      },
      "outputs": [
        {
          "output_type": "execute_result",
          "data": {
            "text/plain": [
              "(42000, 18000)"
            ]
          },
          "metadata": {},
          "execution_count": 5
        }
      ],
      "source": [
        "len(X_train), len(X_test)"
      ]
    },
    {
      "cell_type": "markdown",
      "metadata": {
        "id": "akTUOfLlgwoM"
      },
      "source": [
        "There are 42,000 images in the training data and 18,000 images in the testing data. "
      ]
    },
    {
      "cell_type": "markdown",
      "metadata": {
        "id": "kxODV6HKykuc"
      },
      "source": [
        "## **Visualizing images**\n",
        "\n",
        "- Use X_train to visualize the first 10 images.\n",
        "- Use Y_train to print the first 10 labels."
      ]
    },
    {
      "cell_type": "markdown",
      "metadata": {
        "id": "giALtffZKDNq"
      },
      "source": [
        "### **Visualize the first 10 images in the dataset**"
      ]
    },
    {
      "cell_type": "code",
      "execution_count": null,
      "metadata": {
        "colab": {
          "base_uri": "https://localhost:8080/",
          "height": 95
        },
        "id": "Bvsc8ytHsqWD",
        "outputId": "1f089e87-25ec-48f7-96ae-4992bef7d5de"
      },
      "outputs": [
        {
          "output_type": "display_data",
          "data": {
            "text/plain": [
              "<Figure size 720x72 with 10 Axes>"
            ],
            "image/png": "[encoded data removed]"
          },
          "metadata": {
            "needs_background": "light"
          }
        },
        {
          "output_type": "stream",
          "name": "stdout",
          "text": [
            "label for each of the above image: [2 6 7 4 4 0 3 0 7 3]\n"
          ]
        }
      ],
      "source": [
        "# Visualizing the first 10 images in the dataset and printing their labels\n",
        "\n",
        "%matplotlib inline\n",
        "\n",
        "import matplotlib.pyplot as plt\n",
        "plt.figure(figsize = (10, 1))\n",
        "\n",
        "for i in range(10):\n",
        "    plt.subplot(1, 10, i+1)\n",
        "    plt.imshow(X_train[i], cmap = \"gray\")  # Write the function to visualize images\n",
        "    plt.axis('off')\n",
        "\n",
        "plt.show()\n",
        "\n",
        "print('label for each of the above image: %s' % (y_train[0:10]))"
      ]
    },
    {
      "cell_type": "markdown",
      "metadata": {
        "id": "kzoyeXHOy80N"
      },
      "source": [
        "## **Data preparation**\n"
      ]
    },
    {
      "cell_type": "code",
      "execution_count": null,
      "metadata": {
        "colab": {
          "base_uri": "https://localhost:8080/"
        },
        "id": "NqndzQXng9rL",
        "outputId": "669d5daa-f9b8-4d71-b62b-89019d4f65c3"
      },
      "outputs": [
        {
          "output_type": "stream",
          "name": "stdout",
          "text": [
            "Shape: (32, 32)\n",
            "\n",
            "First image:\n",
            " [[ 33.0704  30.2601  26.852  ...  71.4471  58.2204  42.9939]\n",
            " [ 25.2283  25.5533  29.9765 ... 113.0209 103.3639  84.2949]\n",
            " [ 26.2775  22.6137  40.4763 ... 113.3028 121.775  115.4228]\n",
            " ...\n",
            " [ 28.5502  36.212   45.0801 ...  24.1359  25.0927  26.0603]\n",
            " [ 38.4352  26.4733  23.2717 ...  28.1094  29.4683  30.0661]\n",
            " [ 50.2984  26.0773  24.0389 ...  49.6682  50.853   53.0377]]\n"
          ]
        }
      ],
      "source": [
        "# Shape and the array of pixels for the first image\n",
        "\n",
        "print(\"Shape:\", X_train[0].shape)\n",
        "\n",
        "print()\n",
        "\n",
        "print(\"First image:\\n\", X_train[0])"
      ]
    },
    {
      "cell_type": "code",
      "execution_count": null,
      "metadata": {
        "id": "D9YPwf9ysqWU"
      },
      "outputs": [],
      "source": [
        "# Reshaping the dataset to be able to pass them to CNNs. Remember that we always have to give a 4D array as input to CNNs\n",
        "\n",
        "X_train = X_train.reshape(X_train.shape[0], 32, 32, 1)\n",
        "\n",
        "X_test = X_test.reshape(X_test.shape[0], 32, 32, 1)"
      ]
    },
    {
      "cell_type": "code",
      "execution_count": null,
      "metadata": {
        "id": "q_yUUTp_mUzB"
      },
      "outputs": [],
      "source": [
        "# Normalize inputs from 0-255 to 0-1\n",
        "\n",
        "X_train = X_train / 255.0\n",
        "\n",
        "X_test = X_test / 255.0"
      ]
    },
    {
      "cell_type": "code",
      "execution_count": null,
      "metadata": {
        "colab": {
          "base_uri": "https://localhost:8080/"
        },
        "id": "t7FSqOpamWkH",
        "outputId": "c0a69145-6a39-4a76-9952-915683b1f312"
      },
      "outputs": [
        {
          "output_type": "stream",
          "name": "stdout",
          "text": [
            "Training set: (42000, 32, 32, 1) (42000,)\n",
            "Test set: (18000, 32, 32, 1) (18000,)\n"
          ]
        }
      ],
      "source": [
        "# New shape \n",
        "\n",
        "print('Training set:', X_train.shape, y_train.shape)\n",
        "\n",
        "print('Test set:', X_test.shape, y_test.shape)"
      ]
    },
    {
      "cell_type": "markdown",
      "metadata": {
        "id": "10QaOV-xR7Jn"
      },
      "source": [
        "###One-hot encode the labels in the target variable y_train and y_test."
      ]
    },
    {
      "cell_type": "code",
      "execution_count": null,
      "metadata": {
        "colab": {
          "base_uri": "https://localhost:8080/"
        },
        "id": "zL0lYER4sqWw",
        "outputId": "2d521a6b-8d60-416c-a053-c6ba767e94b9"
      },
      "outputs": [
        {
          "output_type": "execute_result",
          "data": {
            "text/plain": [
              "array([[0., 1., 0., ..., 0., 0., 0.],\n",
              "       [0., 0., 0., ..., 1., 0., 0.],\n",
              "       [0., 0., 1., ..., 0., 0., 0.],\n",
              "       ...,\n",
              "       [0., 0., 0., ..., 1., 0., 0.],\n",
              "       [0., 0., 0., ..., 0., 0., 1.],\n",
              "       [0., 0., 1., ..., 0., 0., 0.]], dtype=float32)"
            ]
          },
          "metadata": {},
          "execution_count": 11
        }
      ],
      "source": [
        "# Write the function and appropriate variable name to one-hot encode the output\n",
        "\n",
        "y_train = tf.keras.utils.to_categorical(y_train)\n",
        "\n",
        "y_test = tf.keras.utils.to_categorical(y_test)\n",
        "\n",
        "# test labels\n",
        "\n",
        "y_test"
      ]
    },
    {
      "cell_type": "markdown",
      "metadata": {
        "id": "ViqPOTquCF76"
      },
      "source": [
        "**Observation:**\n",
        "- Notice that each entry of the target variable is a one-hot encoded vector instead of a single label."
      ]
    },
    {
      "cell_type": "markdown",
      "metadata": {
        "id": "yH-gVrzuByNA"
      },
      "source": [
        "## **Model Building**\n"
      ]
    },
    {
      "cell_type": "code",
      "execution_count": null,
      "metadata": {
        "id": "ZY5pyF4-KDNt"
      },
      "outputs": [],
      "source": [
        "\n",
        "\n",
        "np.random.seed(42)\n",
        "\n",
        "import random\n",
        "\n",
        "random.seed(42)\n",
        "\n",
        "tf.random.set_seed(42)"
      ]
    },
    {
      "cell_type": "markdown",
      "metadata": {
        "id": "UJDUoaEj1d6e"
      },
      "source": [
        "### **Model Architecture**\n",
        " architecture:\n",
        " - First Convolutional layer with **16 filters and the kernel size of 3x3**. Use the **'same' padding** and provide the **input shape = (32, 32, 1)**\n",
        " - Add a **LeakyRelu layer** with the **slope equal to 0.1**\n",
        " - Second Convolutional layer with **32 filters and the kernel size of 3x3 with 'same' padding**\n",
        " - Another **LeakyRelu** with the **slope equal to 0.1**\n",
        " - A **max-pooling layer** with a **pool size of 2x2**\n",
        " - **Flatten** the output from the previous layer\n",
        " - Add a **dense layer with 32 nodes**\n",
        " - Add a **LeakyRelu layer with the slope equal to 0.1**\n",
        " - Add the final **output layer with nodes equal to the number of classes, i.e., 10** and **'softmax' as the activation function**\n",
        " - Compile the model with the **loss equal to categorical_crossentropy, optimizer equal to Adam(learning_rate = 0.001), and metric equal to 'accuracy'**. Do not fit the model here, just return the compiled model.\n",
        "- Call the function cnn_model_1 and store the output in a new variable.\n",
        "- Print the summary of the model.\n",
        "- Fit the model on the training data with a **validation split of 0.2, batch size = 32, verbose = 1, and epochs = 20**. Store the model building history to use later for visualization."
      ]
    },
    {
      "cell_type": "markdown",
      "metadata": {
        "id": "JWsAd45JKDNu"
      },
      "source": [
        "### **Build and train CNN model**"
      ]
    },
    {
      "cell_type": "code",
      "execution_count": null,
      "metadata": {
        "id": "Cmi81Gr5sqW-"
      },
      "outputs": [],
      "source": [
        "# Define the model\n",
        "\n",
        "def cnn_model_1():\n",
        "\n",
        "    model = Sequential() \n",
        "    \n",
        "    # Add layers as per the architecture mentioned above in the same sequence\n",
        "\n",
        "    model.add(Conv2D(filters = 16, kernel_size = (3, 3), padding = \"same\", input_shape = (32, 32, 1)))\n",
        "\n",
        "    model.add(LeakyReLU(0.1))\n",
        "\n",
        "    model.add(Conv2D(filters = 32, kernel_size = (3, 3), padding = 'same'))\n",
        "\n",
        "    model.add(LeakyReLU(0.1))\n",
        "\n",
        "    model.add(MaxPooling2D(pool_size = (2, 2)))\n",
        "\n",
        "    model.add(Flatten())\n",
        "\n",
        "    model.add(Dense(32))\n",
        "\n",
        "    model.add(LeakyReLU(0.1))\n",
        "\n",
        "    model.add(Dense(10, activation = 'softmax'))\n",
        "    \n",
        "    # Compile the model\n",
        "\n",
        "    model.compile( loss = 'categorical_crossentropy',\n",
        "    optimizer = tf.keras.optimizers.Adamax(learning_rate = 0.001),\n",
        "    metrics=['accuracy']\n",
        "    )\n",
        "    \n",
        "    return model"
      ]
    },
    {
      "cell_type": "code",
      "execution_count": null,
      "metadata": {
        "id": "bGCUI_xsImnH"
      },
      "outputs": [],
      "source": [
        "# Build the model\n",
        "\n",
        "model_1 = cnn_model_1()"
      ]
    },
    {
      "cell_type": "code",
      "execution_count": null,
      "metadata": {
        "colab": {
          "base_uri": "https://localhost:8080/"
        },
        "id": "ckJsLdmdQadZ",
        "outputId": "f2f93b2f-29e7-4864-e3a7-7a6f1ea0a090"
      },
      "outputs": [
        {
          "output_type": "stream",
          "name": "stdout",
          "text": [
            "Model: \"sequential\"\n",
            "_________________________________________________________________\n",
            " Layer (type)                Output Shape              Param #   \n",
            "=================================================================\n",
            " conv2d (Conv2D)             (None, 32, 32, 16)        160       \n",
            "                                                                 \n",
            " leaky_re_lu (LeakyReLU)     (None, 32, 32, 16)        0         \n",
            "                                                                 \n",
            " conv2d_1 (Conv2D)           (None, 32, 32, 32)        4640      \n",
            "                                                                 \n",
            " leaky_re_lu_1 (LeakyReLU)   (None, 32, 32, 32)        0         \n",
            "                                                                 \n",
            " max_pooling2d (MaxPooling2D  (None, 16, 16, 32)       0         \n",
            " )                                                               \n",
            "                                                                 \n",
            " flatten (Flatten)           (None, 8192)              0         \n",
            "                                                                 \n",
            " dense (Dense)               (None, 32)                262176    \n",
            "                                                                 \n",
            " leaky_re_lu_2 (LeakyReLU)   (None, 32)                0         \n",
            "                                                                 \n",
            " dense_1 (Dense)             (None, 10)                330       \n",
            "                                                                 \n",
            "=================================================================\n",
            "Total params: 267,306\n",
            "Trainable params: 267,306\n",
            "Non-trainable params: 0\n",
            "_________________________________________________________________\n"
          ]
        }
      ],
      "source": [
        "# Print the model summary\n",
        "\n",
        "model_1.summary()"
      ]
    },
    {
      "cell_type": "code",
      "execution_count": null,
      "metadata": {
        "colab": {
          "base_uri": "https://localhost:8080/"
        },
        "id": "3Fy3Dif_zcCk",
        "outputId": "7b1a3b5c-2c6b-42d5-8d6b-660291093453"
      },
      "outputs": [
        {
          "output_type": "stream",
          "name": "stdout",
          "text": [
            "Epoch 1/20\n",
            "1182/1182 - 15s - loss: 1.6510 - accuracy: 0.4683 - val_loss: 0.9911 - val_accuracy: 0.7200 - 15s/epoch - 13ms/step\n",
            "Epoch 2/20\n",
            "1182/1182 - 4s - loss: 0.8223 - accuracy: 0.7606 - val_loss: 0.6613 - val_accuracy: 0.8129 - 4s/epoch - 3ms/step\n",
            "Epoch 3/20\n",
            "1182/1182 - 4s - loss: 0.6457 - accuracy: 0.8133 - val_loss: 0.5882 - val_accuracy: 0.8336 - 4s/epoch - 3ms/step\n",
            "Epoch 4/20\n",
            "1182/1182 - 4s - loss: 0.5746 - accuracy: 0.8352 - val_loss: 0.5452 - val_accuracy: 0.8502 - 4s/epoch - 3ms/step\n",
            "Epoch 5/20\n",
            "1182/1182 - 4s - loss: 0.5319 - accuracy: 0.8472 - val_loss: 0.5326 - val_accuracy: 0.8479 - 4s/epoch - 3ms/step\n",
            "Epoch 6/20\n",
            "1182/1182 - 4s - loss: 0.5025 - accuracy: 0.8576 - val_loss: 0.5638 - val_accuracy: 0.8400 - 4s/epoch - 3ms/step\n",
            "Epoch 7/20\n",
            "1182/1182 - 4s - loss: 0.4772 - accuracy: 0.8623 - val_loss: 0.5153 - val_accuracy: 0.8569 - 4s/epoch - 3ms/step\n",
            "Epoch 8/20\n",
            "1182/1182 - 4s - loss: 0.4496 - accuracy: 0.8708 - val_loss: 0.5056 - val_accuracy: 0.8586 - 4s/epoch - 3ms/step\n",
            "Epoch 9/20\n",
            "1182/1182 - 4s - loss: 0.4321 - accuracy: 0.8739 - val_loss: 0.4716 - val_accuracy: 0.8686 - 4s/epoch - 3ms/step\n",
            "Epoch 10/20\n",
            "1182/1182 - 4s - loss: 0.4112 - accuracy: 0.8819 - val_loss: 0.4642 - val_accuracy: 0.8698 - 4s/epoch - 3ms/step\n",
            "Epoch 11/20\n",
            "1182/1182 - 4s - loss: 0.3914 - accuracy: 0.8867 - val_loss: 0.4594 - val_accuracy: 0.8736 - 4s/epoch - 3ms/step\n",
            "Epoch 12/20\n",
            "1182/1182 - 4s - loss: 0.3763 - accuracy: 0.8912 - val_loss: 0.4526 - val_accuracy: 0.8726 - 4s/epoch - 3ms/step\n",
            "Epoch 13/20\n",
            "1182/1182 - 4s - loss: 0.3615 - accuracy: 0.8945 - val_loss: 0.4664 - val_accuracy: 0.8698 - 4s/epoch - 3ms/step\n",
            "Epoch 14/20\n",
            "1182/1182 - 4s - loss: 0.3466 - accuracy: 0.8992 - val_loss: 0.4747 - val_accuracy: 0.8700 - 4s/epoch - 3ms/step\n",
            "Epoch 15/20\n",
            "1182/1182 - 4s - loss: 0.3311 - accuracy: 0.9057 - val_loss: 0.4469 - val_accuracy: 0.8781 - 4s/epoch - 3ms/step\n",
            "Epoch 16/20\n",
            "1182/1182 - 4s - loss: 0.3207 - accuracy: 0.9055 - val_loss: 0.4374 - val_accuracy: 0.8840 - 4s/epoch - 3ms/step\n",
            "Epoch 17/20\n",
            "1182/1182 - 4s - loss: 0.3074 - accuracy: 0.9116 - val_loss: 0.4540 - val_accuracy: 0.8743 - 4s/epoch - 3ms/step\n",
            "Epoch 18/20\n",
            "1182/1182 - 4s - loss: 0.2951 - accuracy: 0.9148 - val_loss: 0.4499 - val_accuracy: 0.8779 - 4s/epoch - 3ms/step\n",
            "Epoch 19/20\n",
            "1182/1182 - 4s - loss: 0.2853 - accuracy: 0.9174 - val_loss: 0.4640 - val_accuracy: 0.8776 - 4s/epoch - 3ms/step\n",
            "Epoch 20/20\n",
            "1182/1182 - 4s - loss: 0.2718 - accuracy: 0.9221 - val_loss: 0.4650 - val_accuracy: 0.8755 - 4s/epoch - 3ms/step\n"
          ]
        }
      ],
      "source": [
        "# Fit the model\n",
        "\n",
        "history_model_1 = model_1.fit(             \n",
        "            X_train, y_train,            \n",
        "            epochs = 20,           \n",
        "            validation_split = 0.1,         \n",
        "            shuffle = True,        \n",
        "            verbose = 2)"
      ]
    },
    {
      "cell_type": "markdown",
      "metadata": {
        "id": "tKOckG-KPyLg"
      },
      "source": [
        "### **Plotting the validation and training accuracies**"
      ]
    },
    {
      "cell_type": "code",
      "execution_count": null,
      "metadata": {
        "colab": {
          "base_uri": "https://localhost:8080/",
          "height": 497
        },
        "id": "lt77zgGMP4yw",
        "outputId": "36c87762-1886-42b3-fb22-a6faba69538b"
      },
      "outputs": [
        {
          "output_type": "display_data",
          "data": {
            "text/plain": [
              "<Figure size 576x576 with 1 Axes>"
            ],
            "image/png": "[encoded data removed]"
          },
          "metadata": {
            "needs_background": "light"
          }
        }
      ],
      "source": [
        "# Plotting the accuracies\n",
        "\n",
        "dict_hist = history_model_1.history\n",
        "\n",
        "list_ep = [i for i in range(1, 21)]\n",
        "\n",
        "plt.figure(figsize = (8, 8))\n",
        "\n",
        "plt.plot(list_ep, dict_hist['accuracy'], ls = '--', label = 'accuracy')\n",
        "\n",
        "plt.plot(list_ep, dict_hist['val_accuracy'], ls = '--', label = 'val_accuracy')\n",
        "\n",
        "plt.ylabel('Accuracy')\n",
        "\n",
        "plt.xlabel('Epochs')\n",
        "\n",
        "plt.legend()\n",
        "\n",
        "plt.show()"
      ]
    },
    {
      "cell_type": "markdown",
      "metadata": {
        "id": "pGBbQpLONX7k"
      },
      "source": [
        "**Observations:**\n",
        "We can see from the above plot that the model is overfitting the training data.\n",
        "The validation accuracy has become more or less constant after 3 epochs."
      ]
    },
    {
      "cell_type": "markdown",
      "metadata": {
        "id": "z0qgLMBZm5-K"
      },
      "source": [
        "Let's build another model and see if we can get a better model with generalized performance.\n",
        "\n",
        "First, we need to clear the previous model's history from the Keras backend. Also, let's fix the seed again after clearing the backend."
      ]
    },
    {
      "cell_type": "code",
      "execution_count": null,
      "metadata": {
        "id": "y98BpLxsok_H"
      },
      "outputs": [],
      "source": [
        "# Clearing backend\n",
        "\n",
        "from tensorflow.keras import backend\n",
        "\n",
        "backend.clear_session()"
      ]
    },
    {
      "cell_type": "code",
      "execution_count": null,
      "metadata": {
        "id": "HbKi93HTolGW"
      },
      "outputs": [],
      "source": [
        "# Fixing the seed for random number generators\n",
        "\n",
        "np.random.seed(42)\n",
        "\n",
        "import random\n",
        "\n",
        "random.seed(42)\n",
        "\n",
        "tf.random.set_seed(42)"
      ]
    },
    {
      "cell_type": "markdown",
      "metadata": {
        "id": "lT6o3TIKuCtk"
      },
      "source": [
        "### **Second Model Architecture**\n",
        "\n",
        "\n",
        " - First Convolutional layer with **16 filters and the kernel size of 3x3**. Use the **'same' padding** and provide the **input shape = (32, 32, 1)**\n",
        " - Add a **LeakyRelu layer** with the **slope equal to 0.1**\n",
        " - Second Convolutional layer with **32 filters and the kernel size of 3x3 with 'same' padding**\n",
        " - Add **LeakyRelu** with the **slope equal to 0.1**\n",
        " - Add a **max-pooling layer** with a **pool size of 2x2**\n",
        " - Add a **BatchNormalization layer**\n",
        " - Third Convolutional layer with **32 filters and the kernel size of 3x3 with 'same' padding**\n",
        " - Add a **LeakyRelu layer with the slope equal to 0.1**\n",
        " - Fourth Convolutional layer **64 filters and the kernel size of 3x3 with 'same' padding** \n",
        " - Add a **LeakyRelu layer with the slope equal to 0.1**\n",
        " - Add a **max-pooling layer** with a **pool size of 2x2**\n",
        " - Add a **BatchNormalization layer**\n",
        " - **Flatten** the output from the previous layer\n",
        " - Add a **dense layer with 32 nodes**\n",
        " - Add a **LeakyRelu layer with the slope equal to 0.1**\n",
        " - Add a **dropout layer with the rate equal to 0.5**\n",
        " - Add the final **output layer with nodes equal to the number of classes, i.e., 10** and **'softmax' as the activation function**\n",
        " - Compile the model with the **categorical_crossentropy loss, adam optimizers (learning_rate = 0.001), and metric equal to 'accuracy'**. Do not fit the model here, just return the compiled model.\n",
        "- Call the function cnn_model_2 and store the model in a new variable.\n",
        "- Print the summary of the model.\n",
        "- Fit the model on the train data with a **validation split of 0.2, batch size = 128, verbose = 1, and epochs = 30**. Store the model building history to use later for visualization."
      ]
    },
    {
      "cell_type": "markdown",
      "metadata": {
        "id": "y5IBLS1eKDNy"
      },
      "source": [
        "### **Build and train the second CNN model**"
      ]
    },
    {
      "cell_type": "code",
      "execution_count": null,
      "metadata": {
        "id": "EEPYLFIPnSDP"
      },
      "outputs": [],
      "source": [
        "# Define the model\n",
        "\n",
        "def cnn_model_2():\n",
        "    \n",
        "    model = Sequential()\n",
        "    \n",
        "    # Add layers as per the architecture mentioned above in the same sequence\n",
        "\n",
        "    model.add(Conv2D(filters = 16, kernel_size = (3, 3), padding = \"same\", input_shape = (32, 32, 1)))\n",
        "\n",
        "    model.add(LeakyReLU(0.1))\n",
        "\n",
        "    model.add(Conv2D(filters = 32, kernel_size = (3, 3), padding = 'same'))\n",
        "\n",
        "    model.add(LeakyReLU(0.1))\n",
        "\n",
        "    model.add(MaxPooling2D(pool_size = (2, 2)))\n",
        "\n",
        "    model.add(BatchNormalization())\n",
        "\n",
        "    model.add(Conv2D(filters = 32, kernel_size = (3, 3), padding = 'same'))\n",
        "\n",
        "    model.add(LeakyReLU(0.1))\n",
        "\n",
        "    model.add(Conv2D(filters = 64, kernel_size = (3, 3), padding = 'same'))\n",
        "\n",
        "    model.add(LeakyReLU(0.1))\n",
        "\n",
        "    model.add(MaxPooling2D(pool_size = (2, 2)))\n",
        "\n",
        "    model.add(BatchNormalization())\n",
        "\n",
        "    model.add(Flatten())\n",
        "\n",
        "    model.add(Dense(32))\n",
        "\n",
        "    model.add(LeakyReLU(0.1))\n",
        "\n",
        "    model.add(Dropout(0.5))\n",
        "\n",
        "    model.add(Dense(10, activation = 'softmax'))\n",
        "\n",
        "    # Compile the model\n",
        "\n",
        "    model.compile(\n",
        "            loss = 'categorical_crossentropy',\n",
        "    \n",
        "    optimizer = tf.keras.optimizers.Adamax(learning_rate = 0.001),\n",
        "    metrics=['accuracy']\n",
        "    )\n",
        "    \n",
        "    return model\n",
        "\n"
      ]
    },
    {
      "cell_type": "code",
      "execution_count": null,
      "metadata": {
        "id": "AKjDY4plnSFl"
      },
      "outputs": [],
      "source": [
        "# Build the model\n",
        "\n",
        "model_2 = cnn_model_2()"
      ]
    },
    {
      "cell_type": "code",
      "execution_count": null,
      "metadata": {
        "colab": {
          "base_uri": "https://localhost:8080/"
        },
        "id": "gz_6SVrU2swZ",
        "outputId": "9b4171ef-724f-41d2-890d-dca1b7ce4980"
      },
      "outputs": [
        {
          "output_type": "stream",
          "name": "stdout",
          "text": [
            "Model: \"sequential\"\n",
            "_________________________________________________________________\n",
            " Layer (type)                Output Shape              Param #   \n",
            "=================================================================\n",
            " conv2d (Conv2D)             (None, 32, 32, 16)        160       \n",
            "                                                                 \n",
            " leaky_re_lu (LeakyReLU)     (None, 32, 32, 16)        0         \n",
            "                                                                 \n",
            " conv2d_1 (Conv2D)           (None, 32, 32, 32)        4640      \n",
            "                                                                 \n",
            " leaky_re_lu_1 (LeakyReLU)   (None, 32, 32, 32)        0         \n",
            "                                                                 \n",
            " max_pooling2d (MaxPooling2D  (None, 16, 16, 32)       0         \n",
            " )                                                               \n",
            "                                                                 \n",
            " batch_normalization (BatchN  (None, 16, 16, 32)       128       \n",
            " ormalization)                                                   \n",
            "                                                                 \n",
            " conv2d_2 (Conv2D)           (None, 16, 16, 32)        9248      \n",
            "                                                                 \n",
            " leaky_re_lu_2 (LeakyReLU)   (None, 16, 16, 32)        0         \n",
            "                                                                 \n",
            " conv2d_3 (Conv2D)           (None, 16, 16, 64)        18496     \n",
            "                                                                 \n",
            " leaky_re_lu_3 (LeakyReLU)   (None, 16, 16, 64)        0         \n",
            "                                                                 \n",
            " max_pooling2d_1 (MaxPooling  (None, 8, 8, 64)         0         \n",
            " 2D)                                                             \n",
            "                                                                 \n",
            " batch_normalization_1 (Batc  (None, 8, 8, 64)         256       \n",
            " hNormalization)                                                 \n",
            "                                                                 \n",
            " flatten (Flatten)           (None, 4096)              0         \n",
            "                                                                 \n",
            " dense (Dense)               (None, 32)                131104    \n",
            "                                                                 \n",
            " leaky_re_lu_4 (LeakyReLU)   (None, 32)                0         \n",
            "                                                                 \n",
            " dropout (Dropout)           (None, 32)                0         \n",
            "                                                                 \n",
            " dense_1 (Dense)             (None, 10)                330       \n",
            "                                                                 \n",
            "=================================================================\n",
            "Total params: 164,362\n",
            "Trainable params: 164,170\n",
            "Non-trainable params: 192\n",
            "_________________________________________________________________\n"
          ]
        }
      ],
      "source": [
        "# Print the summary\n",
        "\n",
        "model_2.summary()"
      ]
    },
    {
      "cell_type": "code",
      "execution_count": null,
      "metadata": {
        "colab": {
          "base_uri": "https://localhost:8080/"
        },
        "id": "IQ0Sc4R-y-uu",
        "outputId": "dc8fa9d7-afcd-4ad4-cf5d-892b4b60057c"
      },
      "outputs": [
        {
          "output_type": "stream",
          "name": "stdout",
          "text": [
            "Epoch 1/30\n",
            "1182/1182 - 6s - loss: 1.3832 - accuracy: 0.5291 - val_loss: 0.6695 - val_accuracy: 0.7914 - 6s/epoch - 5ms/step\n",
            "Epoch 2/30\n",
            "1182/1182 - 5s - loss: 0.7327 - accuracy: 0.7708 - val_loss: 0.5350 - val_accuracy: 0.8340 - 5s/epoch - 4ms/step\n",
            "Epoch 3/30\n",
            "1182/1182 - 5s - loss: 0.5971 - accuracy: 0.8183 - val_loss: 0.4004 - val_accuracy: 0.8869 - 5s/epoch - 4ms/step\n",
            "Epoch 4/30\n",
            "1182/1182 - 5s - loss: 0.5339 - accuracy: 0.8385 - val_loss: 0.3760 - val_accuracy: 0.8936 - 5s/epoch - 4ms/step\n",
            "Epoch 5/30\n",
            "1182/1182 - 5s - loss: 0.4810 - accuracy: 0.8533 - val_loss: 0.3669 - val_accuracy: 0.8981 - 5s/epoch - 4ms/step\n",
            "Epoch 6/30\n",
            "1182/1182 - 5s - loss: 0.4400 - accuracy: 0.8658 - val_loss: 0.3521 - val_accuracy: 0.8981 - 5s/epoch - 4ms/step\n",
            "Epoch 7/30\n",
            "1182/1182 - 6s - loss: 0.4097 - accuracy: 0.8742 - val_loss: 0.3361 - val_accuracy: 0.9014 - 6s/epoch - 5ms/step\n",
            "Epoch 8/30\n",
            "1182/1182 - 6s - loss: 0.3870 - accuracy: 0.8840 - val_loss: 0.3321 - val_accuracy: 0.9088 - 6s/epoch - 5ms/step\n",
            "Epoch 9/30\n",
            "1182/1182 - 6s - loss: 0.3616 - accuracy: 0.8900 - val_loss: 0.3338 - val_accuracy: 0.9040 - 6s/epoch - 5ms/step\n",
            "Epoch 10/30\n",
            "1182/1182 - 5s - loss: 0.3392 - accuracy: 0.8965 - val_loss: 0.3175 - val_accuracy: 0.9112 - 5s/epoch - 4ms/step\n",
            "Epoch 11/30\n",
            "1182/1182 - 5s - loss: 0.3196 - accuracy: 0.9040 - val_loss: 0.3195 - val_accuracy: 0.9107 - 5s/epoch - 4ms/step\n",
            "Epoch 12/30\n",
            "1182/1182 - 5s - loss: 0.3059 - accuracy: 0.9060 - val_loss: 0.3121 - val_accuracy: 0.9133 - 5s/epoch - 4ms/step\n",
            "Epoch 13/30\n",
            "1182/1182 - 5s - loss: 0.2984 - accuracy: 0.9081 - val_loss: 0.3381 - val_accuracy: 0.9157 - 5s/epoch - 4ms/step\n",
            "Epoch 14/30\n",
            "1182/1182 - 5s - loss: 0.2752 - accuracy: 0.9160 - val_loss: 0.3000 - val_accuracy: 0.9143 - 5s/epoch - 4ms/step\n",
            "Epoch 15/30\n",
            "1182/1182 - 5s - loss: 0.2643 - accuracy: 0.9176 - val_loss: 0.2964 - val_accuracy: 0.9169 - 5s/epoch - 4ms/step\n",
            "Epoch 16/30\n",
            "1182/1182 - 5s - loss: 0.2560 - accuracy: 0.9182 - val_loss: 0.3012 - val_accuracy: 0.9100 - 5s/epoch - 4ms/step\n",
            "Epoch 17/30\n",
            "1182/1182 - 5s - loss: 0.2433 - accuracy: 0.9232 - val_loss: 0.3288 - val_accuracy: 0.9121 - 5s/epoch - 4ms/step\n",
            "Epoch 18/30\n",
            "1182/1182 - 5s - loss: 0.2374 - accuracy: 0.9249 - val_loss: 0.3204 - val_accuracy: 0.9095 - 5s/epoch - 4ms/step\n",
            "Epoch 19/30\n",
            "1182/1182 - 5s - loss: 0.2348 - accuracy: 0.9267 - val_loss: 0.3370 - val_accuracy: 0.9131 - 5s/epoch - 4ms/step\n",
            "Epoch 20/30\n",
            "1182/1182 - 5s - loss: 0.2219 - accuracy: 0.9286 - val_loss: 0.3720 - val_accuracy: 0.9190 - 5s/epoch - 4ms/step\n",
            "Epoch 21/30\n",
            "1182/1182 - 5s - loss: 0.2145 - accuracy: 0.9304 - val_loss: 0.3168 - val_accuracy: 0.9193 - 5s/epoch - 4ms/step\n",
            "Epoch 22/30\n",
            "1182/1182 - 5s - loss: 0.2054 - accuracy: 0.9347 - val_loss: 0.3496 - val_accuracy: 0.9186 - 5s/epoch - 4ms/step\n",
            "Epoch 23/30\n",
            "1182/1182 - 5s - loss: 0.1979 - accuracy: 0.9349 - val_loss: 0.3502 - val_accuracy: 0.9186 - 5s/epoch - 4ms/step\n",
            "Epoch 24/30\n",
            "1182/1182 - 5s - loss: 0.1901 - accuracy: 0.9387 - val_loss: 0.3676 - val_accuracy: 0.9174 - 5s/epoch - 4ms/step\n",
            "Epoch 25/30\n",
            "1182/1182 - 5s - loss: 0.1847 - accuracy: 0.9386 - val_loss: 0.4122 - val_accuracy: 0.9129 - 5s/epoch - 4ms/step\n",
            "Epoch 26/30\n",
            "1182/1182 - 5s - loss: 0.1817 - accuracy: 0.9409 - val_loss: 0.3464 - val_accuracy: 0.9169 - 5s/epoch - 4ms/step\n",
            "Epoch 27/30\n",
            "1182/1182 - 5s - loss: 0.1742 - accuracy: 0.9417 - val_loss: 0.3279 - val_accuracy: 0.9181 - 5s/epoch - 4ms/step\n",
            "Epoch 28/30\n",
            "1182/1182 - 5s - loss: 0.1710 - accuracy: 0.9433 - val_loss: 0.3603 - val_accuracy: 0.9195 - 5s/epoch - 4ms/step\n",
            "Epoch 29/30\n",
            "1182/1182 - 5s - loss: 0.1636 - accuracy: 0.9459 - val_loss: 0.3506 - val_accuracy: 0.9152 - 5s/epoch - 4ms/step\n",
            "Epoch 30/30\n",
            "1182/1182 - 5s - loss: 0.1610 - accuracy: 0.9479 - val_loss: 0.3593 - val_accuracy: 0.9186 - 5s/epoch - 4ms/step\n"
          ]
        }
      ],
      "source": [
        "# Fit the model\n",
        "\n",
        "history_model_2 = model_2.fit( \n",
        "            X_train, y_train,\n",
        "\n",
        "            epochs = 30,\n",
        "            \n",
        "            validation_split = 0.1,\n",
        "\n",
        "            shuffle = True,\n",
        "            \n",
        "            verbose = 2\n",
        ")"
      ]
    },
    {
      "cell_type": "markdown",
      "metadata": {
        "id": "zKCdy59GKDN1"
      },
      "source": [
        "### **Plotting the validation and training accuracies**"
      ]
    },
    {
      "cell_type": "code",
      "execution_count": null,
      "metadata": {
        "colab": {
          "base_uri": "https://localhost:8080/",
          "height": 497
        },
        "id": "01ig6BrF1KVy",
        "outputId": "b8ee4fac-fad7-4c6d-c794-d3a13693cefb"
      },
      "outputs": [
        {
          "output_type": "display_data",
          "data": {
            "text/plain": [
              "<Figure size 576x576 with 1 Axes>"
            ],
            "image/png": "[encoded data removed]"
          },
          "metadata": {
            "needs_background": "light"
          }
        }
      ],
      "source": [
        "# Plotting the accuracies\n",
        "\n",
        "dict_hist = history_model_2.history\n",
        "\n",
        "list_ep = [i for i in range(1, 31)]\n",
        "\n",
        "plt.figure(figsize = (8, 8))\n",
        "\n",
        "plt.plot(list_ep, dict_hist['accuracy'], ls = '--', label = 'accuracy')\n",
        "\n",
        "plt.plot(list_ep, dict_hist['val_accuracy'], ls = '--', label = 'val_accuracy')\n",
        "\n",
        "plt.ylabel('Accuracy')\n",
        "\n",
        "plt.xlabel('Epochs')\n",
        "\n",
        "plt.legend()\n",
        "\n",
        "plt.show()"
      ]
    },
    {
      "cell_type": "markdown",
      "metadata": {
        "id": "VPW1LlD61RDn"
      },
      "source": [
        "**Observations:**\n",
        "The second model seems to have reduced the overfitting in comparison to the previous model"
      ]
    },
    {
      "cell_type": "code",
      "execution_count": null,
      "metadata": {
        "id": "xbWMEtTj5Ad0"
      },
      "outputs": [],
      "source": [
        "# Make prediction on the test data using model_2 \n",
        "\n",
        "test_pred = model_2.predict(X_test)\n",
        "\n",
        "test_pred = np.argmax(test_pred, axis = -1)"
      ]
    },
    {
      "cell_type": "markdown",
      "metadata": {
        "id": "i3li8Ib08yts"
      },
      "source": [
        "**Note:** Earlier, we noticed that each entry of the target variable is a one-hot encoded vector, but to print the classification report and confusion matrix, we must convert each entry of y_test to a single label."
      ]
    },
    {
      "cell_type": "code",
      "execution_count": null,
      "metadata": {
        "id": "NByu7uAQ8x9P"
      },
      "outputs": [],
      "source": [
        "# Converting each entry to single label from one-hot encoded vector\n",
        "\n",
        "y_test = np.argmax(y_test, axis = -1)"
      ]
    },
    {
      "cell_type": "code",
      "execution_count": null,
      "metadata": {
        "colab": {
          "base_uri": "https://localhost:8080/",
          "height": 629
        },
        "id": "xRddeJ-3EHT1",
        "outputId": "6adc5866-1bfd-42d1-ff48-10d7a5c5f747"
      },
      "outputs": [
        {
          "output_type": "stream",
          "name": "stdout",
          "text": [
            "              precision    recall  f1-score   support\n",
            "\n",
            "           0       0.91      0.95      0.93      1814\n",
            "           1       0.89      0.92      0.91      1828\n",
            "           2       0.94      0.92      0.93      1803\n",
            "           3       0.90      0.88      0.89      1719\n",
            "           4       0.95      0.92      0.93      1812\n",
            "           5       0.88      0.93      0.91      1768\n",
            "           6       0.91      0.90      0.91      1832\n",
            "           7       0.96      0.92      0.94      1808\n",
            "           8       0.89      0.91      0.90      1812\n",
            "           9       0.91      0.90      0.91      1804\n",
            "\n",
            "    accuracy                           0.92     18000\n",
            "   macro avg       0.92      0.91      0.91     18000\n",
            "weighted avg       0.92      0.92      0.92     18000\n",
            "\n"
          ]
        },
        {
          "output_type": "display_data",
          "data": {
            "text/plain": [
              "<Figure size 576x360 with 2 Axes>"
            ],
            "image/png": "[encoded data removed]"
          },
          "metadata": {
            "needs_background": "light"
          }
        }
      ],
      "source": [
        "# Importing required functions\n",
        "\n",
        "from sklearn.metrics import classification_report\n",
        "\n",
        "from sklearn.metrics import confusion_matrix\n",
        "\n",
        "# Printing the classification report\n",
        "\n",
        "print(classification_report(y_test, test_pred))\n",
        "\n",
        "# Plotting the heatmap using confusion matrix\n",
        "\n",
        "cm = confusion_matrix(y_test, test_pred)\n",
        "\n",
        "plt.figure(figsize = (8, 5))\n",
        "\n",
        "sns.heatmap(cm, annot = True,  fmt = '.0f')\n",
        "\n",
        "plt.ylabel('Actual')\n",
        "\n",
        "plt.xlabel('Predicted')\n",
        "\n",
        "plt.show()"
      ]
    },
    {
      "cell_type": "markdown",
      "metadata": {
        "id": "DjErl4GA2u9s"
      },
      "source": [
        "**Final Observations:**\n",
        "The model performs quite well (high recall and accuracy), hence no overfitting."
      ]
    }
  ],
  "metadata": {
    "accelerator": "GPU",
    "colab": {
      "collapsed_sections": [],
      "name": "PatrickYagoubi_CNN.ipynb",
      "provenance": [],
      "include_colab_link": true
    },
    "kernelspec": {
      "display_name": "Python 3 (ipykernel)",
      "language": "python",
      "name": "python3"
    },
    "language_info": {
      "codemirror_mode": {
        "name": "ipython",
        "version": 3
      },
      "file_extension": ".py",
      "mimetype": "text/x-python",
      "name": "python",
      "nbconvert_exporter": "python",
      "pygments_lexer": "ipython3",
      "version": "3.9.7"
    }
  },
  "nbformat": 4,
  "nbformat_minor": 0
}